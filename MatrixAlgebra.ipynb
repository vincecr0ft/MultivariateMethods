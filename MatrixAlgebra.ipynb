{
 "cells": [
  {
   "cell_type": "markdown",
   "metadata": {},
   "source": [
    "# Matrix Algebra\n",
    "\n",
    "This notebook aims to cover the basics of all matrix algebra needed for a full understanding of multivariate analysis methods using Python + Numpy."
   ]
  },
  {
   "cell_type": "code",
   "execution_count": 1,
   "metadata": {
    "collapsed": true
   },
   "outputs": [],
   "source": [
    "import numpy as np"
   ]
  },
  {
   "cell_type": "markdown",
   "metadata": {},
   "source": [
    "## Notation and Definitions\n",
    "\n",
    "### Matrices, Vectors and Scalars\n",
    "\n",
    "A matrix is an arrangment of numbers or variables into rows and columns in written text such as this, **boldface** is used to represent a matrix whereas in handwritten text it might be common to write with $\\bar{\\mathrm{overline}}$ or even double $\\bar{\\bar{\\mathrm{overline}}}$. A vector is a matrix with only a single row or column and a scalar is a single number or a matrix with only one row and one column.\n",
    "\n",
    "$$\n",
    "{\\bf A} = \\begin{pmatrix}4 & 8\\\\ 15 & 16\\\\ 23 & 42\\end{pmatrix} = \\begin{pmatrix}a_{11}&a_{12}\\\\a_{21}&a_{22}\\\\a_{31}&a_{32}\\end{pmatrix}=(a_{ij})\n",
    "$$"
   ]
  },
  {
   "cell_type": "markdown",
   "metadata": {},
   "source": [
    "Let's take some examples,\n",
    "$$\n",
    "{\\bf A} = \\begin{pmatrix}4 & 2 & 3 \\\\ 7 & 5 & 8\\end{pmatrix} \\ \\mathrm{and}\\ \\ {\\bf B} = \\begin{pmatrix}3 & -2 & 4 \\\\ 6 & 9 & -5\\end{pmatrix}\n",
    "$$\n",
    "\n",
    "Before we look at operations, first we need to define the matrices:"
   ]
  },
  {
   "cell_type": "code",
   "execution_count": 2,
   "metadata": {},
   "outputs": [],
   "source": [
    "A = np.array([(4,2,3),(7,5,8)])\n",
    "B = np.array([(3,-2,4),(6,9,-5)])"
   ]
  },
  {
   "cell_type": "markdown",
   "metadata": {},
   "source": [
    "### Matrix Opperations\n",
    "\n",
    "Matrices can be added and subtracted."
   ]
  },
  {
   "cell_type": "markdown",
   "metadata": {},
   "source": [
    "**A+B**"
   ]
  },
  {
   "cell_type": "code",
   "execution_count": 3,
   "metadata": {},
   "outputs": [
    {
     "data": {
      "text/plain": [
       "array([[ 7,  0,  7],\n",
       "       [13, 14,  3]])"
      ]
     },
     "execution_count": 3,
     "metadata": {},
     "output_type": "execute_result"
    }
   ],
   "source": [
    "A+B"
   ]
  },
  {
   "cell_type": "code",
   "execution_count": 4,
   "metadata": {},
   "outputs": [
    {
     "data": {
      "text/plain": [
       "array([[ 1,  4, -1],\n",
       "       [ 1, -4, 13]])"
      ]
     },
     "execution_count": 4,
     "metadata": {},
     "output_type": "execute_result"
    }
   ],
   "source": [
    "A-B"
   ]
  },
  {
   "cell_type": "markdown",
   "metadata": {},
   "source": [
    "As can be seen, when adding or subtracting matrices this is done element wise and then only if the dimensions of the matrices are the same. "
   ]
  },
  {
   "cell_type": "markdown",
   "metadata": {},
   "source": [
    "The transpose of a matrix is denoted with an appostrophe such as **A'** this is the operation of changing the rows and columns of the matrix.\n",
    "$$\n",
    "{\\bf A} = \\begin{pmatrix}4 & 2 & 3 \\\\ 7 & 5 & 8\\end{pmatrix} \\ \\ \\ \\ {\\bf A'} = \\begin{pmatrix}4 & 7\\\\ 2 & 5 \\\\ 3 & 8\\end{pmatrix}\n",
    "$$"
   ]
  },
  {
   "cell_type": "markdown",
   "metadata": {},
   "source": [
    "When multiplying matrices ${\\bf AB}\\neq {\\bf BA}$ as the operations can only be done when the number of columns in the first matrix equals the number of rows in the second. The resulting matrix will be a square matrix of this dimension. As each element can be defined as:\n",
    "\n",
    "$$\n",
    "{\\bf C} = {\\bf AB}\\ \\ \\ \\mathrm{where}\\ \\ \\ c_{ij}=\\sum_k a_{ik}b_{kj}\n",
    "$$\n",
    "i.e. $c_{ij}$ is the sum of the products of the $i$th row of **A** and the $j$th column of **B**\n",
    "\n",
    "This is done for us in Numpy so, let's try some examples also including the transpose.\n",
    "\n",
    "**A'A**"
   ]
  },
  {
   "cell_type": "code",
   "execution_count": 5,
   "metadata": {},
   "outputs": [
    {
     "data": {
      "text/plain": [
       "array([[65, 43, 68],\n",
       "       [43, 29, 46],\n",
       "       [68, 46, 73]])"
      ]
     },
     "execution_count": 5,
     "metadata": {},
     "output_type": "execute_result"
    }
   ],
   "source": [
    "np.dot(A.T,A)"
   ]
  },
  {
   "cell_type": "markdown",
   "metadata": {},
   "source": [
    "**AA'**"
   ]
  },
  {
   "cell_type": "code",
   "execution_count": 6,
   "metadata": {},
   "outputs": [
    {
     "data": {
      "text/plain": [
       "array([[ 29,  62],\n",
       "       [ 62, 138]])"
      ]
     },
     "execution_count": 6,
     "metadata": {},
     "output_type": "execute_result"
    }
   ],
   "source": [
    "np.dot(A,A.T)"
   ]
  },
  {
   "cell_type": "markdown",
   "metadata": {},
   "source": [
    "Matrices have some fun properties. Whilst matrix multiplication is non-commutative ($\\bf AB\\neq BA$) addition and subtraction are. e.g."
   ]
  },
  {
   "cell_type": "code",
   "execution_count": 7,
   "metadata": {},
   "outputs": [
    {
     "data": {
      "text/plain": [
       "array([[ 7,  0,  7],\n",
       "       [13, 14,  3]])"
      ]
     },
     "execution_count": 7,
     "metadata": {},
     "output_type": "execute_result"
    }
   ],
   "source": [
    "B+A"
   ]
  },
  {
   "cell_type": "markdown",
   "metadata": {},
   "source": [
    "further more the transpose of the sum (or differece) of two matrices is the same as the sum (or difference) of those matrices transposed:\n",
    "$$\n",
    "({\\bf A}+{\\bf B})'={\\bf A'}+{\\bf B'}\n",
    "$$"
   ]
  },
  {
   "cell_type": "code",
   "execution_count": 8,
   "metadata": {},
   "outputs": [
    {
     "data": {
      "text/plain": [
       "array([[ 7, 13],\n",
       "       [ 0, 14],\n",
       "       [ 7,  3]])"
      ]
     },
     "execution_count": 8,
     "metadata": {},
     "output_type": "execute_result"
    }
   ],
   "source": [
    "(A+B).T"
   ]
  },
  {
   "cell_type": "code",
   "execution_count": 9,
   "metadata": {},
   "outputs": [
    {
     "data": {
      "text/plain": [
       "array([[ 7, 13],\n",
       "       [ 0, 14],\n",
       "       [ 7,  3]])"
      ]
     },
     "execution_count": 9,
     "metadata": {},
     "output_type": "execute_result"
    }
   ],
   "source": [
    "A.T+B.T"
   ]
  },
  {
   "cell_type": "markdown",
   "metadata": {},
   "source": [
    "by taking the transpose twice you get back to the orriginal matrix"
   ]
  },
  {
   "cell_type": "code",
   "execution_count": 10,
   "metadata": {},
   "outputs": [
    {
     "data": {
      "text/plain": [
       "array([[4, 2, 3],\n",
       "       [7, 5, 8]])"
      ]
     },
     "execution_count": 10,
     "metadata": {},
     "output_type": "execute_result"
    }
   ],
   "source": [
    "A.T.T"
   ]
  },
  {
   "cell_type": "markdown",
   "metadata": {},
   "source": [
    "### Determinant\n",
    "\n",
    "The determinant of a square $n\\times n$ matrix is the sum of all $n!$ possible products of $n$ elements according to some rules. For a two by two matrix \n",
    "$$\n",
    "|{\\bf A}|=\\begin{vmatrix}a_{11}&a_{12}\\\\a_{21}&a_{22}\\end{vmatrix}=a_{11}a_{22}-a_{21}a_{12}\n",
    "$$\n",
    "and for a three by three:\n",
    "$$\n",
    "|{\\bf A}|=\\begin{vmatrix}a_{11}&a_{12}&a_{13}\\\\a_{21}&a_{22}&a_{23}\\\\a_{31}&a_{32}&a_{33}\\end{vmatrix}$$\n",
    "$$\n",
    "=a_{11}a_{22}a_{33}+a_{12}a_{23}a_{31}+a_{13}a_{32}a_{21}-a_{31}a_{22}a_{13}+a_{32}a_{23}a_{11}+a_{33}a_{12}a_{21}\n",
    "$$\n",
    "\n",
    "I remember it as all backward diagonals minus all forward diagonals.\n",
    "\n",
    "Do do some examples we need some square matrices.\n",
    "$$\n",
    "{\\bf A}=\\begin{pmatrix}1 & 3\\\\2 & -1\\end{pmatrix}\\ \\ \\ {\\bf B}=\\begin{pmatrix}2 & 0 \\\\ 1 & 5\\end{pmatrix}\n",
    "$$\n"
   ]
  },
  {
   "cell_type": "code",
   "execution_count": 11,
   "metadata": {},
   "outputs": [],
   "source": [
    "A = np.array([(1,3),(2,-1)])\n",
    "B = np.array([(2,0),(1,5)])"
   ]
  },
  {
   "cell_type": "markdown",
   "metadata": {},
   "source": [
    "**AB**$\\neq$**BA**"
   ]
  },
  {
   "cell_type": "code",
   "execution_count": 12,
   "metadata": {},
   "outputs": [
    {
     "data": {
      "text/plain": [
       "array([[ 5, 15],\n",
       "       [ 3, -5]])"
      ]
     },
     "execution_count": 12,
     "metadata": {},
     "output_type": "execute_result"
    }
   ],
   "source": [
    "np.dot(A,B)"
   ]
  },
  {
   "cell_type": "code",
   "execution_count": 13,
   "metadata": {},
   "outputs": [
    {
     "data": {
      "text/plain": [
       "array([[ 2,  6],\n",
       "       [11, -2]])"
      ]
     },
     "execution_count": 13,
     "metadata": {},
     "output_type": "execute_result"
    }
   ],
   "source": [
    "np.dot(B,A)"
   ]
  },
  {
   "cell_type": "markdown",
   "metadata": {},
   "source": [
    "but the determinants do hold. i.e. |**AB**|=|**A**||**B**|"
   ]
  },
  {
   "cell_type": "code",
   "execution_count": 14,
   "metadata": {},
   "outputs": [
    {
     "data": {
      "text/plain": [
       "-70.000000000000028"
      ]
     },
     "execution_count": 14,
     "metadata": {},
     "output_type": "execute_result"
    }
   ],
   "source": [
    "np.linalg.det(np.dot(A,B))"
   ]
  },
  {
   "cell_type": "code",
   "execution_count": 15,
   "metadata": {},
   "outputs": [
    {
     "data": {
      "text/plain": [
       "-70.0"
      ]
     },
     "execution_count": 15,
     "metadata": {},
     "output_type": "execute_result"
    }
   ],
   "source": [
    "np.linalg.det(A)*np.linalg.det(B)"
   ]
  },
  {
   "cell_type": "markdown",
   "metadata": {},
   "source": [
    "### Trace\n",
    "\n",
    "The trace is the sum of all the diagonal elements of a square matrix. \n",
    "\n",
    "$$\n",
    "\\mathrm{tr}({\\bf A})=\\sum_{i=j}^na_{ij}\n",
    "$$\n",
    "\n",
    "This is important because tr(**AB**)=tr(**BA**) whilst also tr(**A** + **B**) = tr(**A**)+tr(**B**)"
   ]
  },
  {
   "cell_type": "code",
   "execution_count": 16,
   "metadata": {},
   "outputs": [
    {
     "data": {
      "text/plain": [
       "array([[3, 3],\n",
       "       [3, 4]])"
      ]
     },
     "execution_count": 16,
     "metadata": {},
     "output_type": "execute_result"
    }
   ],
   "source": [
    "A+B"
   ]
  },
  {
   "cell_type": "code",
   "execution_count": 17,
   "metadata": {},
   "outputs": [
    {
     "data": {
      "text/plain": [
       "7"
      ]
     },
     "execution_count": 17,
     "metadata": {},
     "output_type": "execute_result"
    }
   ],
   "source": [
    "np.trace(A+B)"
   ]
  },
  {
   "cell_type": "code",
   "execution_count": 18,
   "metadata": {},
   "outputs": [
    {
     "data": {
      "text/plain": [
       "7"
      ]
     },
     "execution_count": 18,
     "metadata": {},
     "output_type": "execute_result"
    }
   ],
   "source": [
    "np.trace(A)+np.trace(B)"
   ]
  },
  {
   "cell_type": "markdown",
   "metadata": {},
   "source": [
    "### Special Matrices\n",
    "\n",
    "A matrix is diagonal if it is equal to it's transpose.\n",
    "\n",
    "The diagonal of a square matrix is just the elements $i=j$ that we just summed for the trace and zeros everywhere else. "
   ]
  },
  {
   "cell_type": "code",
   "execution_count": 19,
   "metadata": {},
   "outputs": [
    {
     "data": {
      "text/plain": [
       "array([1, 5, 9])"
      ]
     },
     "execution_count": 19,
     "metadata": {},
     "output_type": "execute_result"
    }
   ],
   "source": [
    "A = np.array([(1,2,3),(4,5,6),(7,8,9)])\n",
    "np.diag(A)"
   ]
  },
  {
   "cell_type": "markdown",
   "metadata": {},
   "source": [
    "a diagonal matrix containing only ones called the identity matrix."
   ]
  },
  {
   "cell_type": "code",
   "execution_count": 20,
   "metadata": {},
   "outputs": [
    {
     "data": {
      "text/plain": [
       "array([[ 1.,  0.,  0.],\n",
       "       [ 0.,  1.,  0.],\n",
       "       [ 0.,  0.,  1.]])"
      ]
     },
     "execution_count": 20,
     "metadata": {},
     "output_type": "execute_result"
    }
   ],
   "source": [
    "np.identity(3)"
   ]
  },
  {
   "cell_type": "markdown",
   "metadata": {},
   "source": [
    "### Inverse\n",
    "The inverse of a matrix is defined as that which when multiplied by the matrix gives the indentity matrix.\n",
    "$$\n",
    "{\\bf AA}^{-1}={\\bf A}^{-1}{\\bf A}={\\bf I}\n",
    "$$\n",
    "\n",
    "There are several different ways to calculate this but numpy has them included."
   ]
  },
  {
   "cell_type": "code",
   "execution_count": 21,
   "metadata": {},
   "outputs": [],
   "source": [
    "A = np.array([(2,-1),(-1,2)])"
   ]
  },
  {
   "cell_type": "code",
   "execution_count": 22,
   "metadata": {},
   "outputs": [],
   "source": [
    "AI = np.linalg.inv(A)"
   ]
  },
  {
   "cell_type": "code",
   "execution_count": 23,
   "metadata": {},
   "outputs": [
    {
     "data": {
      "text/plain": [
       "array([[ 1.,  0.],\n",
       "       [ 0.,  1.]])"
      ]
     },
     "execution_count": 23,
     "metadata": {},
     "output_type": "execute_result"
    }
   ],
   "source": [
    "np.dot(A,AI)"
   ]
  },
  {
   "cell_type": "code",
   "execution_count": 24,
   "metadata": {},
   "outputs": [
    {
     "data": {
      "text/plain": [
       "matrix([[ 1.,  0.],\n",
       "        [ 0.,  1.]])"
      ]
     },
     "execution_count": 24,
     "metadata": {},
     "output_type": "execute_result"
    }
   ],
   "source": [
    "A = np.mat([(2,-1),(-1,2)])\n",
    "np.dot(A,A.I)"
   ]
  },
  {
   "cell_type": "markdown",
   "metadata": {},
   "source": [
    "## More?\n",
    "\n",
    "Other topics not yet discussed here that will be added if addressed in later chapters:\n",
    "* rank\n",
    "* decomposition\n",
    "* eigenvalues\n",
    "\n",
    "More information on the range of matrix algebra can be found on the [datacamp Linear Algebra CheatSheet](https://www.datacamp.com/community/blog/python-scipy-cheat-sheet#gs.A4CwjIE)."
   ]
  },
  {
   "cell_type": "code",
   "execution_count": null,
   "metadata": {
    "collapsed": true
   },
   "outputs": [],
   "source": []
  }
 ],
 "metadata": {
  "kernelspec": {
   "display_name": "Python 2",
   "language": "python",
   "name": "python2"
  },
  "language_info": {
   "codemirror_mode": {
    "name": "ipython",
    "version": 2
   },
   "file_extension": ".py",
   "mimetype": "text/x-python",
   "name": "python",
   "nbconvert_exporter": "python",
   "pygments_lexer": "ipython2",
   "version": "2.7.13"
  }
 },
 "nbformat": 4,
 "nbformat_minor": 2
}
