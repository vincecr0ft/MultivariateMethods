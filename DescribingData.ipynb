{
 "cells": [
  {
   "cell_type": "markdown",
   "metadata": {},
   "source": [
    "# Characterizing and Displaying Multivariate Data"
   ]
  },
  {
   "cell_type": "markdown",
   "metadata": {},
   "source": [
    "## Mean and Variance\n",
    "\n",
    "Generally we consider only continuous random variables that can be described by a density function $f(y)$ that indicates the relative frequency of the variable $y$. The population mean of $y$ is defined as the mean of all possible values of $y$ and is denoted by $\\mu$. The mean is also referred to as the expected value of $y$, or $E(y)$. Generally $f(y)$ is unknown but if a large random sample from the population is available, it is highly probable that the mean of this sample is close to $\\mu$.\n",
    "\n",
    "The sample mean of a random sample of $n$ observations $y_1, y_2, . . . , y_n$ is given by the ordinary arithmetic average:\n",
    "$$\n",
    "\\bar{y}= \\frac{1}{n}\\sum_{i=1}^ny_i\n",
    "$$\n",
    "\n",
    "The variance of the population is defined as var$(y) = \\sigma^2 = E(y - \\mu)^2$. This is the average squared deviation from the mean and is thus an indication of the extent to which the values of $y$ are spread or scattered. It can be shown that $\\sigma^2 = E(y^2)-\\mu^2$. The sample variance is defined as:\n",
    "$$\n",
    "s^2=\\frac{\\sum_{i=1}^n(y_i-\\bar{y})^2}{n-1}=\\frac{\\sum_{i=1}^n y_i^2-n\\bar{y}^2}{n-1}\n",
    "$$\n",
    "\n",
    "The square root of either the population variance or sample variance is called the *standard deviation*."
   ]
  },
  {
   "cell_type": "markdown",
   "metadata": {},
   "source": [
    "## Covariance and Correlation\n",
    "\n",
    "If two variables $x$ and $y$ are measured on the same object or subject or event, we have a bivariate random variable ($x, y$). Often $x$ and $y$ will tend to covary; if one is above its mean, the other is more likely to be above its mean, and vice versa. For example, height and weight were observed for a sample of 20 college-age males are stored in the text file. N.B. this information is from an old US textbook so heights are in inches and weights in lb.\n",
    "\n",
    "First we load them in then we can look at the properties."
   ]
  },
  {
   "cell_type": "code",
   "execution_count": 1,
   "metadata": {
    "collapsed": true
   },
   "outputs": [],
   "source": [
    "import numpy as np"
   ]
  },
  {
   "cell_type": "code",
   "execution_count": 14,
   "metadata": {},
   "outputs": [],
   "source": [
    "heightandweight = np.loadtxt(\"heightandweight.txt\")"
   ]
  },
  {
   "cell_type": "markdown",
   "metadata": {},
   "source": [
    "now lets plot the data"
   ]
  },
  {
   "cell_type": "code",
   "execution_count": 34,
   "metadata": {},
   "outputs": [],
   "source": [
    "import matplotlib.pyplot as plt\n",
    "%matplotlib inline\n",
    "import matplotlib.lines as mlines"
   ]
  },
  {
   "cell_type": "code",
   "execution_count": 77,
   "metadata": {},
   "outputs": [
    {
     "data": {
      "image/png": "[encoded data removed]",
      "text/plain": [
       "<matplotlib.figure.Figure at 0x108a81610>"
      ]
     },
     "metadata": {},
     "output_type": "display_data"
    }
   ],
   "source": [
    "fig = plt.figure()\n",
    "ax = fig.add_subplot(111)\n",
    "#scale by the standard devaition to emphasise size of variations\n",
    "plt.scatter(heightandweight[:,0],heightandweight[:,1]/np.std(heightandweight[:,1])-10., c=\"g\", alpha=0.5, marker='^',\n",
    "            label=\"Height\")\n",
    "plt.scatter(heightandweight[:,0],heightandweight[:,2]/np.std(heightandweight[:,2]), c=\"b\", alpha=0.5, marker='>',\n",
    "            label=\"Weight\")\n",
    "#show mean to demonstrate upward and downward variance\n",
    "heightmean = np.mean(heightandweight[:,1])/np.std(heightandweight[:,1])-10.\n",
    "weightmean = np.mean(heightandweight[:,2])/np.std(heightandweight[:,2])\n",
    "#syntax = plot([xrange],[yrange],etc)\n",
    "plt.plot([0,20],[heightmean,heightmean],c='g',ls='--')\n",
    "plt.plot([0,20],[weightmean,weightmean],c='b',ls='--')\n",
    "\n",
    "#annotate plot, remove y numbers, add labels\n",
    "plt.yticks([])\n",
    "ax.annotate('Mean Height', xy=(0, heightmean), xytext=(-6, heightmean))\n",
    "ax.annotate('Mean Weight', xy=(0, weightmean), xytext=(-6, weightmean))\n",
    "# add legend and axis titles\n",
    "plt.legend(loc=2)\n",
    "plt.xlabel(\"Person\")\n",
    "plt.title(\"Height and weight for a sample of 20 college age males\")\n",
    "\n",
    "plt.show()"
   ]
  },
  {
   "cell_type": "markdown",
   "metadata": {},
   "source": [
    "As can be seen in the plot above $x$ and $y$ tend to stay on the same side of the mean. This illustrates positive covariance. \n",
    "\n",
    "The population covariance is defined as cov$(x, y) = \\sigma_{xy} = E[(x -\\mu_x)(y - \\mu_y)]$, where $\\mu_x$ and $\\mu_y$ are the means of $x$ and $y$, respectively.\n",
    "\n",
    "Formally, $x$ and $y$ are independent if their joint density factors into the product of their individual densities: $f (x, y) = g(x)h(y)$ however the notion of independence is more general than that of zero covariance. The covariance $\\sigma_{xy}$ measures linear relationships only, whereas if two random variables are independent, they are not related either linearly or nonlinearly. Independence implies $\\sigma_{xy} = 0$, but $\\sigma_{xy}$ = 0 does not imply independence.\n",
    "\n",
    "In the plot above, both variables have been scaled, since a difference of 1lb is much less significant than 1inch. This opens up a new issue in that the covariance depends on the scale of measurement of $x$ and $y$, and therefore it is difficult to compare covariances between different pairs of variables. a\n",
    "A measure of linear relationship that is invariant to changes of scale is the correlation which is found by dividing the covariance by the standard deviations of the two variables. The population correlation of two random variables $x$ and $y$ is:\n",
    "$$\n",
    "\\rho_{xy}=\\mathrm{corr}(x,y)=\\frac{\\sigma_{xy}}{\\sigma_x\\sigma_y}=\\frac{E[(x -\\mu_x)(y - \\mu_y)]}{\\sqrt{E(x -\\mu_x)^2}\\sqrt{(y - \\mu_y)^2}}\n",
    "$$\n",
    "\n",
    "and the sample correlation as:\n",
    "$$\n",
    "r_{xy}=\\frac{s_{xy}}{s_xs_y}=\\frac{\\sum_{i=1}^n(x_i -\\bar{x})(y_i - \\bar{y})}{\\sqrt{\\sum_{i=1}^n(x_i -\\bar{x})^2\\sum_{i=1}^n(y_i - \\bar{y})^2}}\n",
    "$$"
   ]
  },
  {
   "cell_type": "markdown",
   "metadata": {},
   "source": [
    "## Scatter Plots"
   ]
  },
  {
   "cell_type": "markdown",
   "metadata": {},
   "source": [
    "## Mean Vectors"
   ]
  },
  {
   "cell_type": "markdown",
   "metadata": {},
   "source": [
    "## Covariance Matrix and Correlation Matrix"
   ]
  },
  {
   "cell_type": "markdown",
   "metadata": {},
   "source": [
    "## Linear Combinations of Variables"
   ]
  },
  {
   "cell_type": "markdown",
   "metadata": {},
   "source": [
    "## Estimating missing values\n",
    "### Expectation Maximisation Algorithm\n",
    "\n",
    "## Distance between vectors"
   ]
  },
  {
   "cell_type": "code",
   "execution_count": null,
   "metadata": {
    "collapsed": true
   },
   "outputs": [],
   "source": []
  }
 ],
 "metadata": {
  "kernelspec": {
   "display_name": "Python 2",
   "language": "python",
   "name": "python2"
  },
  "language_info": {
   "codemirror_mode": {
    "name": "ipython",
    "version": 2
   },
   "file_extension": ".py",
   "mimetype": "text/x-python",
   "name": "python",
   "nbconvert_exporter": "python",
   "pygments_lexer": "ipython2",
   "version": "2.7.13"
  }
 },
 "nbformat": 4,
 "nbformat_minor": 2
}
